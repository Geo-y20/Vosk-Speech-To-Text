{
  "nbformat": 4,
  "nbformat_minor": 0,
  "metadata": {
    "colab": {
      "provenance": [],
      "gpuType": "T4",
      "mount_file_id": "1IYUFJZAYuhWSyveBaLOpgMOr_H8yA05J",
      "authorship_tag": "ABX9TyOHG/lgb15WfiWbJE8Pp7bO",
      "include_colab_link": true
    },
    "kernelspec": {
      "name": "python3",
      "display_name": "Python 3"
    },
    "language_info": {
      "name": "python"
    },
    "accelerator": "GPU"
  },
  "cells": [
    {
      "cell_type": "markdown",
      "metadata": {
        "id": "view-in-github",
        "colab_type": "text"
      },
      "source": [
        "<a href=\"https://colab.research.google.com/github/Geo-y20/Vosk-Speech-To-Text/blob/main/Vosk_Final_.ipynb\" target=\"_parent\"><img src=\"https://colab.research.google.com/assets/colab-badge.svg\" alt=\"Open In Colab\"/></a>"
      ]
    },
    {
      "cell_type": "code",
      "execution_count": null,
      "metadata": {
        "colab": {
          "base_uri": "https://localhost:8080/"
        },
        "id": "hrgPx_-14W8j",
        "outputId": "bcaf0a67-0dfb-4b0d-cd83-68944a3abd33"
      },
      "outputs": [
        {
          "output_type": "stream",
          "name": "stdout",
          "text": [
            "Collecting vosk\n",
            "  Downloading vosk-0.3.45-py3-none-manylinux_2_12_x86_64.manylinux2010_x86_64.whl (7.2 MB)\n",
            "\u001b[2K     \u001b[90m━━━━━━━━━━━━━━━━━━━━━━━━━━━━━━━━━━━━━━━━\u001b[0m \u001b[32m7.2/7.2 MB\u001b[0m \u001b[31m24.3 MB/s\u001b[0m eta \u001b[36m0:00:00\u001b[0m\n",
            "\u001b[?25hRequirement already satisfied: cffi>=1.0 in /usr/local/lib/python3.10/dist-packages (from vosk) (1.16.0)\n",
            "Requirement already satisfied: requests in /usr/local/lib/python3.10/dist-packages (from vosk) (2.31.0)\n",
            "Requirement already satisfied: tqdm in /usr/local/lib/python3.10/dist-packages (from vosk) (4.66.1)\n",
            "Collecting srt (from vosk)\n",
            "  Downloading srt-3.5.3.tar.gz (28 kB)\n",
            "  Preparing metadata (setup.py) ... \u001b[?25l\u001b[?25hdone\n",
            "Collecting websockets (from vosk)\n",
            "  Downloading websockets-12.0-cp310-cp310-manylinux_2_5_x86_64.manylinux1_x86_64.manylinux_2_17_x86_64.manylinux2014_x86_64.whl (130 kB)\n",
            "\u001b[2K     \u001b[90m━━━━━━━━━━━━━━━━━━━━━━━━━━━━━━━━━━━━━━━━\u001b[0m \u001b[32m130.2/130.2 kB\u001b[0m \u001b[31m17.6 MB/s\u001b[0m eta \u001b[36m0:00:00\u001b[0m\n",
            "\u001b[?25hRequirement already satisfied: pycparser in /usr/local/lib/python3.10/dist-packages (from cffi>=1.0->vosk) (2.21)\n",
            "Requirement already satisfied: charset-normalizer<4,>=2 in /usr/local/lib/python3.10/dist-packages (from requests->vosk) (3.3.1)\n",
            "Requirement already satisfied: idna<4,>=2.5 in /usr/local/lib/python3.10/dist-packages (from requests->vosk) (3.4)\n",
            "Requirement already satisfied: urllib3<3,>=1.21.1 in /usr/local/lib/python3.10/dist-packages (from requests->vosk) (2.0.7)\n",
            "Requirement already satisfied: certifi>=2017.4.17 in /usr/local/lib/python3.10/dist-packages (from requests->vosk) (2023.7.22)\n",
            "Building wheels for collected packages: srt\n",
            "  Building wheel for srt (setup.py) ... \u001b[?25l\u001b[?25hdone\n",
            "  Created wheel for srt: filename=srt-3.5.3-py3-none-any.whl size=22429 sha256=e2e976050154ea80d4fa564c437d3462a17720ac6d010a8e3a5a64ef092800a7\n",
            "  Stored in directory: /root/.cache/pip/wheels/d7/31/a1/18e1e7e8bfdafd19e6803d7eb919b563dd11de380e4304e332\n",
            "Successfully built srt\n",
            "Installing collected packages: websockets, srt, vosk\n",
            "Successfully installed srt-3.5.3 vosk-0.3.45 websockets-12.0\n"
          ]
        }
      ],
      "source": [
        "!pip install vosk\n"
      ]
    },
    {
      "cell_type": "code",
      "source": [
        "!wget https://alphacephei.com/vosk/models/vosk-model-en-us-0.22.zip\n",
        "!unzip vosk-model-en-us-0.22.zip\n"
      ],
      "metadata": {
        "colab": {
          "base_uri": "https://localhost:8080/"
        },
        "id": "I3FY5aGu5O1r",
        "outputId": "d123000b-8b22-4a64-c088-7709f2116cf0"
      },
      "execution_count": null,
      "outputs": [
        {
          "output_type": "stream",
          "name": "stdout",
          "text": [
            "--2023-10-26 17:10:15--  https://alphacephei.com/vosk/models/vosk-model-en-us-0.22.zip\n",
            "Resolving alphacephei.com (alphacephei.com)... 188.40.21.16, 2a01:4f8:13a:279f::2\n",
            "Connecting to alphacephei.com (alphacephei.com)|188.40.21.16|:443... connected.\n",
            "HTTP request sent, awaiting response... 200 OK\n",
            "Length: 1913365522 (1.8G) [application/zip]\n",
            "Saving to: ‘vosk-model-en-us-0.22.zip’\n",
            "\n",
            "vosk-model-en-us-0. 100%[===================>]   1.78G  18.6MB/s    in 1m 40s  \n",
            "\n",
            "2023-10-26 17:11:55 (18.3 MB/s) - ‘vosk-model-en-us-0.22.zip’ saved [1913365522/1913365522]\n",
            "\n",
            "Archive:  vosk-model-en-us-0.22.zip\n",
            "   creating: vosk-model-en-us-0.22/\n",
            "   creating: vosk-model-en-us-0.22/am/\n",
            "  inflating: vosk-model-en-us-0.22/am/final.mdl  \n",
            "  inflating: vosk-model-en-us-0.22/am/tree  \n",
            "   creating: vosk-model-en-us-0.22/ivector/\n",
            "  inflating: vosk-model-en-us-0.22/ivector/final.dubm  \n",
            "  inflating: vosk-model-en-us-0.22/ivector/final.ie  \n",
            "  inflating: vosk-model-en-us-0.22/ivector/final.mat  \n",
            "  inflating: vosk-model-en-us-0.22/ivector/splice.conf  \n",
            "  inflating: vosk-model-en-us-0.22/ivector/global_cmvn.stats  \n",
            "  inflating: vosk-model-en-us-0.22/ivector/online_cmvn.conf  \n",
            "  inflating: vosk-model-en-us-0.22/README  \n",
            "   creating: vosk-model-en-us-0.22/conf/\n",
            "  inflating: vosk-model-en-us-0.22/conf/mfcc.conf  \n",
            "  inflating: vosk-model-en-us-0.22/conf/model.conf  \n",
            "   creating: vosk-model-en-us-0.22/graph/\n",
            "  inflating: vosk-model-en-us-0.22/graph/disambig_tid.int  \n",
            "   creating: vosk-model-en-us-0.22/graph/phones/\n",
            " extracting: vosk-model-en-us-0.22/graph/phones/optional_silence.int  \n",
            " extracting: vosk-model-en-us-0.22/graph/phones/optional_silence.csl  \n",
            "  inflating: vosk-model-en-us-0.22/graph/phones/align_lexicon.int  \n",
            "  inflating: vosk-model-en-us-0.22/graph/phones/silence.csl  \n",
            "  inflating: vosk-model-en-us-0.22/graph/phones/align_lexicon.txt  \n",
            " extracting: vosk-model-en-us-0.22/graph/phones/optional_silence.txt  \n",
            "  inflating: vosk-model-en-us-0.22/graph/phones/disambig.txt  \n",
            "  inflating: vosk-model-en-us-0.22/graph/phones/word_boundary.int  \n",
            "  inflating: vosk-model-en-us-0.22/graph/phones/disambig.int  \n",
            "  inflating: vosk-model-en-us-0.22/graph/phones/word_boundary.txt  \n",
            "  inflating: vosk-model-en-us-0.22/graph/HCLG.fst  \n",
            " extracting: vosk-model-en-us-0.22/graph/num_pdfs  \n",
            "  inflating: vosk-model-en-us-0.22/graph/phones.txt  \n",
            "  inflating: vosk-model-en-us-0.22/graph/words.txt  \n",
            "   creating: vosk-model-en-us-0.22/rnnlm/\n",
            "  inflating: vosk-model-en-us-0.22/rnnlm/word_feats.txt  \n",
            "  inflating: vosk-model-en-us-0.22/rnnlm/special_symbol_opts.conf  \n",
            "  inflating: vosk-model-en-us-0.22/rnnlm/special_symbol_opts.txt  \n",
            "  inflating: vosk-model-en-us-0.22/rnnlm/feat_embedding.final.mat  \n",
            "  inflating: vosk-model-en-us-0.22/rnnlm/final.raw  \n",
            "   creating: vosk-model-en-us-0.22/rescore/\n",
            "  inflating: vosk-model-en-us-0.22/rescore/G.carpa  "
          ]
        }
      ]
    },
    {
      "cell_type": "code",
      "source": [
        "import vosk\n",
        "import sys\n",
        "import wave\n",
        "\n",
        "model_path = \"/content/drive/MyDrive/Colab Notebooks/Vosk Speech To text/vosk-model-en-us-0.22\"\n",
        "audio_file = \"/content/drive/MyDrive/Colab Notebooks/Vosk Speech To text/test story english.wav\"\n",
        "\n",
        "# Initialize the recognizer with additional parameters\n",
        "vosk.SetLogLevel(-1)  # Turn off log messages\n",
        "model = vosk.Model(model_path)\n",
        "recognizer = vosk.KaldiRecognizer(model, 16000)\n",
        "\n",
        "# Read the audio file\n",
        "wf = wave.open(audio_file, \"rb\")\n",
        "\n",
        "recognized_text = \"\"  # Initialize an empty string to store recognized text\n",
        "\n",
        "while True:\n",
        "    data = wf.readframes(4000)\n",
        "    if len(data) == 0:\n",
        "        break\n",
        "    if recognizer.AcceptWaveform(data):\n",
        "        pass  # You can add further processing if needed\n",
        "\n",
        "result = recognizer.FinalResult()\n",
        "\n",
        "# Extract and print the recognized text\n",
        "recognized_text = result\n",
        "\n",
        "# Save recognized text to a text file\n",
        "output_file = \"/content/drive/MyDrive/Colab Notebooks/Vosk Speech To text/recognized_text.txt\"\n",
        "with open(output_file, \"w\") as text_file:\n",
        "    text_file.write(recognized_text)\n",
        "\n",
        "print(\"Recognized Speech:\")\n",
        "print(recognized_text)\n",
        "print(f\"Recognized text saved to {output_file}\")\n"
      ],
      "metadata": {
        "id": "Sp6HmphF5rKY",
        "colab": {
          "base_uri": "https://localhost:8080/"
        },
        "outputId": "5952d931-4c17-46c8-88d8-d254a3a7d941"
      },
      "execution_count": null,
      "outputs": [
        {
          "output_type": "stream",
          "name": "stdout",
          "text": [
            "Recognized Speech:\n",
            "{\n",
            "  \"text\" : \"the the the the the the the\"\n",
            "}\n",
            "Recognized text saved to /content/drive/MyDrive/Colab Notebooks/Vosk Speech To text/recognized_text.txt\n"
          ]
        }
      ]
    }
  ]
}